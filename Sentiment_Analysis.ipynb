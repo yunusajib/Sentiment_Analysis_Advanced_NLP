{
  "cells": [
    {
      "cell_type": "markdown",
      "metadata": {
        "id": "WEG23mrqTHa_"
      },
      "source": [
        "# Importing Required Libraries"
      ]
    },
    {
      "cell_type": "code",
      "execution_count": null,
      "metadata": {
        "id": "75SCMA38woet"
      },
      "outputs": [],
      "source": [
        "import pandas as pd\n",
        "import matplotlib.pyplot as plt\n",
        "import seaborn as sns"
      ]
    },
    {
      "cell_type": "markdown",
      "metadata": {
        "id": "mIMkD2PtTPE9"
      },
      "source": [
        "# Read the CSV Data and Display the first five"
      ]
    },
    {
      "cell_type": "code",
      "execution_count": null,
      "metadata": {
        "colab": {
          "base_uri": "https://localhost:8080/",
          "height": 481
        },
        "id": "4CnloaUYxnOw",
        "outputId": "ef05d404-34b2-4e66-8081-337d9e45763e"
      },
      "outputs": [
        {
          "data": {
            "application/vnd.google.colaboratory.intrinsic+json": {
              "type": "dataframe",
              "variable_name": "data"
            },
            "text/html": [
              "\n",
              "  <div id=\"df-35d64657-c1e8-48b2-8ad7-98267c4105f3\" class=\"colab-df-container\">\n",
              "    <div>\n",
              "<style scoped>\n",
              "    .dataframe tbody tr th:only-of-type {\n",
              "        vertical-align: middle;\n",
              "    }\n",
              "\n",
              "    .dataframe tbody tr th {\n",
              "        vertical-align: top;\n",
              "    }\n",
              "\n",
              "    .dataframe thead th {\n",
              "        text-align: right;\n",
              "    }\n",
              "</style>\n",
              "<table border=\"1\" class=\"dataframe\">\n",
              "  <thead>\n",
              "    <tr style=\"text-align: right;\">\n",
              "      <th></th>\n",
              "      <th>tweet_contributors</th>\n",
              "      <th>tweet_coordinates</th>\n",
              "      <th>tweet_created_at</th>\n",
              "      <th>tweet_display_text_range</th>\n",
              "      <th>tweet_entities</th>\n",
              "      <th>tweet_extended_entities</th>\n",
              "      <th>tweet_favorite_count</th>\n",
              "      <th>tweet_favorited</th>\n",
              "      <th>tweet_full_text</th>\n",
              "      <th>tweet_geo</th>\n",
              "      <th>...</th>\n",
              "      <th>user_profile_text_color</th>\n",
              "      <th>user_profile_use_background_image</th>\n",
              "      <th>user_protected</th>\n",
              "      <th>user_screen_name</th>\n",
              "      <th>user_statuses_count</th>\n",
              "      <th>user_time_zone</th>\n",
              "      <th>user_translator_type</th>\n",
              "      <th>user_url</th>\n",
              "      <th>user_utc_offset</th>\n",
              "      <th>user_verified</th>\n",
              "    </tr>\n",
              "  </thead>\n",
              "  <tbody>\n",
              "    <tr>\n",
              "      <th>0</th>\n",
              "      <td>NaN</td>\n",
              "      <td>NaN</td>\n",
              "      <td>Fri Sep 07 16:25:06 +0000 2018</td>\n",
              "      <td>[0, 75]</td>\n",
              "      <td>{'hashtags': [{'text': 'quote', 'indices': [47...</td>\n",
              "      <td>{'media': [{'id': 1038100853872197632, 'id_str...</td>\n",
              "      <td>0</td>\n",
              "      <td>False</td>\n",
              "      <td>Done is better than perfect. — Sheryl Sandberg...</td>\n",
              "      <td>NaN</td>\n",
              "      <td>...</td>\n",
              "      <td>333333</td>\n",
              "      <td>True</td>\n",
              "      <td>False</td>\n",
              "      <td>UltraYOUwoman</td>\n",
              "      <td>91870.0</td>\n",
              "      <td>NaN</td>\n",
              "      <td>none</td>\n",
              "      <td>https://t.co/jGlJswxjwS</td>\n",
              "      <td>NaN</td>\n",
              "      <td>False</td>\n",
              "    </tr>\n",
              "    <tr>\n",
              "      <th>1</th>\n",
              "      <td>NaN</td>\n",
              "      <td>NaN</td>\n",
              "      <td>Fri Sep 07 16:24:59 +0000 2018</td>\n",
              "      <td>[0, 237]</td>\n",
              "      <td>{'hashtags': [{'text': 'hero', 'indices': [90,...</td>\n",
              "      <td>NaN</td>\n",
              "      <td>0</td>\n",
              "      <td>False</td>\n",
              "      <td>Shout out to the Great Fire Department and the...</td>\n",
              "      <td>NaN</td>\n",
              "      <td>...</td>\n",
              "      <td>333333</td>\n",
              "      <td>True</td>\n",
              "      <td>False</td>\n",
              "      <td>yungcutup</td>\n",
              "      <td>618822.0</td>\n",
              "      <td>NaN</td>\n",
              "      <td>none</td>\n",
              "      <td>http://t.co/lVm8vfDbfO</td>\n",
              "      <td>NaN</td>\n",
              "      <td>False</td>\n",
              "    </tr>\n",
              "    <tr>\n",
              "      <th>2</th>\n",
              "      <td>NaN</td>\n",
              "      <td>NaN</td>\n",
              "      <td>Fri Sep 07 16:24:50 +0000 2018</td>\n",
              "      <td>[0, 176]</td>\n",
              "      <td>{'hashtags': [{'text': 'JustDoIt', 'indices': ...</td>\n",
              "      <td>{'media': [{'id': 1038100773396041728, 'id_str...</td>\n",
              "      <td>0</td>\n",
              "      <td>False</td>\n",
              "      <td>There are some AMAZINGLY hilarious Nike Ad mem...</td>\n",
              "      <td>NaN</td>\n",
              "      <td>...</td>\n",
              "      <td>050505</td>\n",
              "      <td>True</td>\n",
              "      <td>False</td>\n",
              "      <td>rachelbogle</td>\n",
              "      <td>48075.0</td>\n",
              "      <td>NaN</td>\n",
              "      <td>none</td>\n",
              "      <td>https://t.co/g9exqgZp9x</td>\n",
              "      <td>NaN</td>\n",
              "      <td>True</td>\n",
              "    </tr>\n",
              "    <tr>\n",
              "      <th>3</th>\n",
              "      <td>NaN</td>\n",
              "      <td>{'type': 'Point', 'coordinates': [-86.45594032...</td>\n",
              "      <td>Fri Sep 07 16:24:44 +0000 2018</td>\n",
              "      <td>[0, 88]</td>\n",
              "      <td>{'hashtags': [{'text': 'kapernickeffect', 'ind...</td>\n",
              "      <td>NaN</td>\n",
              "      <td>0</td>\n",
              "      <td>False</td>\n",
              "      <td>#kapernickeffect #swoosh #justdoit @ Lucas Bis...</td>\n",
              "      <td>{'type': 'Point', 'coordinates': [35.85402047,...</td>\n",
              "      <td>...</td>\n",
              "      <td>333333</td>\n",
              "      <td>True</td>\n",
              "      <td>False</td>\n",
              "      <td>ErvGotti609</td>\n",
              "      <td>1983.0</td>\n",
              "      <td>NaN</td>\n",
              "      <td>none</td>\n",
              "      <td>NaN</td>\n",
              "      <td>NaN</td>\n",
              "      <td>False</td>\n",
              "    </tr>\n",
              "    <tr>\n",
              "      <th>4</th>\n",
              "      <td>NaN</td>\n",
              "      <td>NaN</td>\n",
              "      <td>Fri Sep 07 16:24:39 +0000 2018</td>\n",
              "      <td>[0, 132]</td>\n",
              "      <td>{'hashtags': [{'text': 'shaquem', 'indices': [...</td>\n",
              "      <td>{'media': [{'id': 1038100736595255296, 'id_str...</td>\n",
              "      <td>0</td>\n",
              "      <td>False</td>\n",
              "      <td>One Hand, One Dream: The Shaquem Griffin Story...</td>\n",
              "      <td>NaN</td>\n",
              "      <td>...</td>\n",
              "      <td>1A1E1A</td>\n",
              "      <td>True</td>\n",
              "      <td>False</td>\n",
              "      <td>NoLuckNeeded</td>\n",
              "      <td>24989.0</td>\n",
              "      <td>NaN</td>\n",
              "      <td>none</td>\n",
              "      <td>http://t.co/MMGF9RfLz0</td>\n",
              "      <td>NaN</td>\n",
              "      <td>False</td>\n",
              "    </tr>\n",
              "  </tbody>\n",
              "</table>\n",
              "<p>5 rows × 72 columns</p>\n",
              "</div>\n",
              "    <div class=\"colab-df-buttons\">\n",
              "\n",
              "  <div class=\"colab-df-container\">\n",
              "    <button class=\"colab-df-convert\" onclick=\"convertToInteractive('df-35d64657-c1e8-48b2-8ad7-98267c4105f3')\"\n",
              "            title=\"Convert this dataframe to an interactive table.\"\n",
              "            style=\"display:none;\">\n",
              "\n",
              "  <svg xmlns=\"http://www.w3.org/2000/svg\" height=\"24px\" viewBox=\"0 -960 960 960\">\n",
              "    <path d=\"M120-120v-720h720v720H120Zm60-500h600v-160H180v160Zm220 220h160v-160H400v160Zm0 220h160v-160H400v160ZM180-400h160v-160H180v160Zm440 0h160v-160H620v160ZM180-180h160v-160H180v160Zm440 0h160v-160H620v160Z\"/>\n",
              "  </svg>\n",
              "    </button>\n",
              "\n",
              "  <style>\n",
              "    .colab-df-container {\n",
              "      display:flex;\n",
              "      gap: 12px;\n",
              "    }\n",
              "\n",
              "    .colab-df-convert {\n",
              "      background-color: #E8F0FE;\n",
              "      border: none;\n",
              "      border-radius: 50%;\n",
              "      cursor: pointer;\n",
              "      display: none;\n",
              "      fill: #1967D2;\n",
              "      height: 32px;\n",
              "      padding: 0 0 0 0;\n",
              "      width: 32px;\n",
              "    }\n",
              "\n",
              "    .colab-df-convert:hover {\n",
              "      background-color: #E2EBFA;\n",
              "      box-shadow: 0px 1px 2px rgba(60, 64, 67, 0.3), 0px 1px 3px 1px rgba(60, 64, 67, 0.15);\n",
              "      fill: #174EA6;\n",
              "    }\n",
              "\n",
              "    .colab-df-buttons div {\n",
              "      margin-bottom: 4px;\n",
              "    }\n",
              "\n",
              "    [theme=dark] .colab-df-convert {\n",
              "      background-color: #3B4455;\n",
              "      fill: #D2E3FC;\n",
              "    }\n",
              "\n",
              "    [theme=dark] .colab-df-convert:hover {\n",
              "      background-color: #434B5C;\n",
              "      box-shadow: 0px 1px 3px 1px rgba(0, 0, 0, 0.15);\n",
              "      filter: drop-shadow(0px 1px 2px rgba(0, 0, 0, 0.3));\n",
              "      fill: #FFFFFF;\n",
              "    }\n",
              "  </style>\n",
              "\n",
              "    <script>\n",
              "      const buttonEl =\n",
              "        document.querySelector('#df-35d64657-c1e8-48b2-8ad7-98267c4105f3 button.colab-df-convert');\n",
              "      buttonEl.style.display =\n",
              "        google.colab.kernel.accessAllowed ? 'block' : 'none';\n",
              "\n",
              "      async function convertToInteractive(key) {\n",
              "        const element = document.querySelector('#df-35d64657-c1e8-48b2-8ad7-98267c4105f3');\n",
              "        const dataTable =\n",
              "          await google.colab.kernel.invokeFunction('convertToInteractive',\n",
              "                                                    [key], {});\n",
              "        if (!dataTable) return;\n",
              "\n",
              "        const docLinkHtml = 'Like what you see? Visit the ' +\n",
              "          '<a target=\"_blank\" href=https://colab.research.google.com/notebooks/data_table.ipynb>data table notebook</a>'\n",
              "          + ' to learn more about interactive tables.';\n",
              "        element.innerHTML = '';\n",
              "        dataTable['output_type'] = 'display_data';\n",
              "        await google.colab.output.renderOutput(dataTable, element);\n",
              "        const docLink = document.createElement('div');\n",
              "        docLink.innerHTML = docLinkHtml;\n",
              "        element.appendChild(docLink);\n",
              "      }\n",
              "    </script>\n",
              "  </div>\n",
              "\n",
              "\n",
              "<div id=\"df-c75dfad4-b294-47c9-8a8f-ba22fe8b8a73\">\n",
              "  <button class=\"colab-df-quickchart\" onclick=\"quickchart('df-c75dfad4-b294-47c9-8a8f-ba22fe8b8a73')\"\n",
              "            title=\"Suggest charts\"\n",
              "            style=\"display:none;\">\n",
              "\n",
              "<svg xmlns=\"http://www.w3.org/2000/svg\" height=\"24px\"viewBox=\"0 0 24 24\"\n",
              "     width=\"24px\">\n",
              "    <g>\n",
              "        <path d=\"M19 3H5c-1.1 0-2 .9-2 2v14c0 1.1.9 2 2 2h14c1.1 0 2-.9 2-2V5c0-1.1-.9-2-2-2zM9 17H7v-7h2v7zm4 0h-2V7h2v10zm4 0h-2v-4h2v4z\"/>\n",
              "    </g>\n",
              "</svg>\n",
              "  </button>\n",
              "\n",
              "<style>\n",
              "  .colab-df-quickchart {\n",
              "      --bg-color: #E8F0FE;\n",
              "      --fill-color: #1967D2;\n",
              "      --hover-bg-color: #E2EBFA;\n",
              "      --hover-fill-color: #174EA6;\n",
              "      --disabled-fill-color: #AAA;\n",
              "      --disabled-bg-color: #DDD;\n",
              "  }\n",
              "\n",
              "  [theme=dark] .colab-df-quickchart {\n",
              "      --bg-color: #3B4455;\n",
              "      --fill-color: #D2E3FC;\n",
              "      --hover-bg-color: #434B5C;\n",
              "      --hover-fill-color: #FFFFFF;\n",
              "      --disabled-bg-color: #3B4455;\n",
              "      --disabled-fill-color: #666;\n",
              "  }\n",
              "\n",
              "  .colab-df-quickchart {\n",
              "    background-color: var(--bg-color);\n",
              "    border: none;\n",
              "    border-radius: 50%;\n",
              "    cursor: pointer;\n",
              "    display: none;\n",
              "    fill: var(--fill-color);\n",
              "    height: 32px;\n",
              "    padding: 0;\n",
              "    width: 32px;\n",
              "  }\n",
              "\n",
              "  .colab-df-quickchart:hover {\n",
              "    background-color: var(--hover-bg-color);\n",
              "    box-shadow: 0 1px 2px rgba(60, 64, 67, 0.3), 0 1px 3px 1px rgba(60, 64, 67, 0.15);\n",
              "    fill: var(--button-hover-fill-color);\n",
              "  }\n",
              "\n",
              "  .colab-df-quickchart-complete:disabled,\n",
              "  .colab-df-quickchart-complete:disabled:hover {\n",
              "    background-color: var(--disabled-bg-color);\n",
              "    fill: var(--disabled-fill-color);\n",
              "    box-shadow: none;\n",
              "  }\n",
              "\n",
              "  .colab-df-spinner {\n",
              "    border: 2px solid var(--fill-color);\n",
              "    border-color: transparent;\n",
              "    border-bottom-color: var(--fill-color);\n",
              "    animation:\n",
              "      spin 1s steps(1) infinite;\n",
              "  }\n",
              "\n",
              "  @keyframes spin {\n",
              "    0% {\n",
              "      border-color: transparent;\n",
              "      border-bottom-color: var(--fill-color);\n",
              "      border-left-color: var(--fill-color);\n",
              "    }\n",
              "    20% {\n",
              "      border-color: transparent;\n",
              "      border-left-color: var(--fill-color);\n",
              "      border-top-color: var(--fill-color);\n",
              "    }\n",
              "    30% {\n",
              "      border-color: transparent;\n",
              "      border-left-color: var(--fill-color);\n",
              "      border-top-color: var(--fill-color);\n",
              "      border-right-color: var(--fill-color);\n",
              "    }\n",
              "    40% {\n",
              "      border-color: transparent;\n",
              "      border-right-color: var(--fill-color);\n",
              "      border-top-color: var(--fill-color);\n",
              "    }\n",
              "    60% {\n",
              "      border-color: transparent;\n",
              "      border-right-color: var(--fill-color);\n",
              "    }\n",
              "    80% {\n",
              "      border-color: transparent;\n",
              "      border-right-color: var(--fill-color);\n",
              "      border-bottom-color: var(--fill-color);\n",
              "    }\n",
              "    90% {\n",
              "      border-color: transparent;\n",
              "      border-bottom-color: var(--fill-color);\n",
              "    }\n",
              "  }\n",
              "</style>\n",
              "\n",
              "  <script>\n",
              "    async function quickchart(key) {\n",
              "      const quickchartButtonEl =\n",
              "        document.querySelector('#' + key + ' button');\n",
              "      quickchartButtonEl.disabled = true;  // To prevent multiple clicks.\n",
              "      quickchartButtonEl.classList.add('colab-df-spinner');\n",
              "      try {\n",
              "        const charts = await google.colab.kernel.invokeFunction(\n",
              "            'suggestCharts', [key], {});\n",
              "      } catch (error) {\n",
              "        console.error('Error during call to suggestCharts:', error);\n",
              "      }\n",
              "      quickchartButtonEl.classList.remove('colab-df-spinner');\n",
              "      quickchartButtonEl.classList.add('colab-df-quickchart-complete');\n",
              "    }\n",
              "    (() => {\n",
              "      let quickchartButtonEl =\n",
              "        document.querySelector('#df-c75dfad4-b294-47c9-8a8f-ba22fe8b8a73 button');\n",
              "      quickchartButtonEl.style.display =\n",
              "        google.colab.kernel.accessAllowed ? 'block' : 'none';\n",
              "    })();\n",
              "  </script>\n",
              "</div>\n",
              "    </div>\n",
              "  </div>\n"
            ],
            "text/plain": [
              "   tweet_contributors                                  tweet_coordinates  \\\n",
              "0                 NaN                                                NaN   \n",
              "1                 NaN                                                NaN   \n",
              "2                 NaN                                                NaN   \n",
              "3                 NaN  {'type': 'Point', 'coordinates': [-86.45594032...   \n",
              "4                 NaN                                                NaN   \n",
              "\n",
              "                 tweet_created_at tweet_display_text_range  \\\n",
              "0  Fri Sep 07 16:25:06 +0000 2018                  [0, 75]   \n",
              "1  Fri Sep 07 16:24:59 +0000 2018                 [0, 237]   \n",
              "2  Fri Sep 07 16:24:50 +0000 2018                 [0, 176]   \n",
              "3  Fri Sep 07 16:24:44 +0000 2018                  [0, 88]   \n",
              "4  Fri Sep 07 16:24:39 +0000 2018                 [0, 132]   \n",
              "\n",
              "                                      tweet_entities  \\\n",
              "0  {'hashtags': [{'text': 'quote', 'indices': [47...   \n",
              "1  {'hashtags': [{'text': 'hero', 'indices': [90,...   \n",
              "2  {'hashtags': [{'text': 'JustDoIt', 'indices': ...   \n",
              "3  {'hashtags': [{'text': 'kapernickeffect', 'ind...   \n",
              "4  {'hashtags': [{'text': 'shaquem', 'indices': [...   \n",
              "\n",
              "                             tweet_extended_entities  tweet_favorite_count  \\\n",
              "0  {'media': [{'id': 1038100853872197632, 'id_str...                     0   \n",
              "1                                                NaN                     0   \n",
              "2  {'media': [{'id': 1038100773396041728, 'id_str...                     0   \n",
              "3                                                NaN                     0   \n",
              "4  {'media': [{'id': 1038100736595255296, 'id_str...                     0   \n",
              "\n",
              "   tweet_favorited                                    tweet_full_text  \\\n",
              "0            False  Done is better than perfect. — Sheryl Sandberg...   \n",
              "1            False  Shout out to the Great Fire Department and the...   \n",
              "2            False  There are some AMAZINGLY hilarious Nike Ad mem...   \n",
              "3            False  #kapernickeffect #swoosh #justdoit @ Lucas Bis...   \n",
              "4            False  One Hand, One Dream: The Shaquem Griffin Story...   \n",
              "\n",
              "                                           tweet_geo  ...  \\\n",
              "0                                                NaN  ...   \n",
              "1                                                NaN  ...   \n",
              "2                                                NaN  ...   \n",
              "3  {'type': 'Point', 'coordinates': [35.85402047,...  ...   \n",
              "4                                                NaN  ...   \n",
              "\n",
              "   user_profile_text_color  user_profile_use_background_image user_protected  \\\n",
              "0                   333333                               True          False   \n",
              "1                   333333                               True          False   \n",
              "2                   050505                               True          False   \n",
              "3                   333333                               True          False   \n",
              "4                   1A1E1A                               True          False   \n",
              "\n",
              "   user_screen_name  user_statuses_count  user_time_zone  \\\n",
              "0     UltraYOUwoman              91870.0             NaN   \n",
              "1         yungcutup             618822.0             NaN   \n",
              "2       rachelbogle              48075.0             NaN   \n",
              "3       ErvGotti609               1983.0             NaN   \n",
              "4      NoLuckNeeded              24989.0             NaN   \n",
              "\n",
              "   user_translator_type                 user_url user_utc_offset user_verified  \n",
              "0                  none  https://t.co/jGlJswxjwS             NaN         False  \n",
              "1                  none   http://t.co/lVm8vfDbfO             NaN         False  \n",
              "2                  none  https://t.co/g9exqgZp9x             NaN          True  \n",
              "3                  none                      NaN             NaN         False  \n",
              "4                  none   http://t.co/MMGF9RfLz0             NaN         False  \n",
              "\n",
              "[5 rows x 72 columns]"
            ]
          },
          "execution_count": 40,
          "metadata": {},
          "output_type": "execute_result"
        }
      ],
      "source": [
        "url = 'justdoit_tweets_2018_09_07_2.csv'\n",
        "data = pd.read_csv(url)\n",
        "data.head(5)\n"
      ]
    },
    {
      "cell_type": "markdown",
      "metadata": {
        "id": "WclQA5QhTguy"
      },
      "source": [
        "# Selecting oome columns needed for training our model"
      ]
    },
    {
      "cell_type": "code",
      "execution_count": null,
      "metadata": {
        "id": "pTcuUH_3x9I4"
      },
      "outputs": [],
      "source": [
        "columns_to_keep = ['tweet_full_text', 'tweet_created_at','tweet_favorite_count', 'tweet_retweet_count',\n",
        "                   'user_followers_count', 'tweet_place', 'tweet_entities']"
      ]
    },
    {
      "cell_type": "code",
      "execution_count": null,
      "metadata": {
        "colab": {
          "base_uri": "https://localhost:8080/",
          "height": 302
        },
        "id": "9p8ASBgRyhql",
        "outputId": "01254854-4c49-40b7-9c7a-d151cb8a25bd"
      },
      "outputs": [
        {
          "data": {
            "application/vnd.google.colaboratory.intrinsic+json": {
              "summary": "{\n  \"name\": \"df\",\n  \"rows\": 5089,\n  \"fields\": [\n    {\n      \"column\": \"tweet_full_text\",\n      \"properties\": {\n        \"dtype\": \"string\",\n        \"num_unique_values\": 5076,\n        \"samples\": [\n          \"@samswey @deray Thank u kindly for that anti-propaganda news translation. Otherwise, I just might have thought SHE was the victim.\\n#endpolicebrutality #justdoit\",\n          \"\\u201cBelieve in something, even if it means sacrificing everything.\\u201d #JustDoIt\",\n          \"@Nike is the only shoe I'll train in. I'm wearing the Nike Bruins from Back to the Future for my wedding. Hell yeah Nike. #JustDoIt\"\n        ],\n        \"semantic_type\": \"\",\n        \"description\": \"\"\n      }\n    },\n    {\n      \"column\": \"tweet_created_at\",\n      \"properties\": {\n        \"dtype\": \"object\",\n        \"num_unique_values\": 4730,\n        \"samples\": [\n          \"Fri Sep 07 02:11:25 +0000 2018\",\n          \"Fri Sep 07 05:39:47 +0000 2018\",\n          \"Fri Sep 07 15:50:25 +0000 2018\"\n        ],\n        \"semantic_type\": \"\",\n        \"description\": \"\"\n      }\n    },\n    {\n      \"column\": \"tweet_favorite_count\",\n      \"properties\": {\n        \"dtype\": \"number\",\n        \"std\": 76,\n        \"min\": 0,\n        \"max\": 4887,\n        \"num_unique_values\": 96,\n        \"samples\": [\n          121,\n          66,\n          56\n        ],\n        \"semantic_type\": \"\",\n        \"description\": \"\"\n      }\n    },\n    {\n      \"column\": \"tweet_retweet_count\",\n      \"properties\": {\n        \"dtype\": \"number\",\n        \"std\": 15,\n        \"min\": 0,\n        \"max\": 748,\n        \"num_unique_values\": 54,\n        \"samples\": [\n          748,\n          210,\n          145\n        ],\n        \"semantic_type\": \"\",\n        \"description\": \"\"\n      }\n    },\n    {\n      \"column\": \"user_followers_count\",\n      \"properties\": {\n        \"dtype\": \"number\",\n        \"std\": 44802.02653716782,\n        \"min\": 0.0,\n        \"max\": 2896006.0,\n        \"num_unique_values\": 1933,\n        \"samples\": [\n          5079.0,\n          1517.0,\n          1099.0\n        ],\n        \"semantic_type\": \"\",\n        \"description\": \"\"\n      }\n    },\n    {\n      \"column\": \"tweet_place\",\n      \"properties\": {\n        \"dtype\": \"category\",\n        \"num_unique_values\": 308,\n        \"samples\": [\n          \"{'id': 'df7fd3a3b9eff7ee', 'url': 'https://api.twitter.com/1.1/geo/id/df7fd3a3b9eff7ee.json', 'place_type': 'admin', 'name': 'Oregon', 'full_name': 'Oregon, USA', 'country_code': 'US', 'country': 'United States', 'contained_within': [], 'bounding_box': {'type': 'Polygon', 'coordinates': [[[-124.703541, 41.991795], [-116.463262, 41.991795], [-116.463262, 46.2990779], [-124.703541, 46.2990779]]]}, 'attributes': {}}\",\n          \"{'id': '9a974dfc8efb32a0', 'url': 'https://api.twitter.com/1.1/geo/id/9a974dfc8efb32a0.json', 'place_type': 'city', 'name': 'Kansas City', 'full_name': 'Kansas City, MO', 'country_code': 'US', 'country': 'United States', 'contained_within': [], 'bounding_box': {'type': 'Polygon', 'coordinates': [[[-94.733122, 38.868002], [-94.3854414, 38.868002], [-94.3854414, 39.332095], [-94.733122, 39.332095]]]}, 'attributes': {}}\",\n          \"{'id': '6057f1e35bcc6c20', 'url': 'https://api.twitter.com/1.1/geo/id/6057f1e35bcc6c20.json', 'place_type': 'admin', 'name': 'South Carolina', 'full_name': 'South Carolina, USA', 'country_code': 'US', 'country': 'United States', 'contained_within': [], 'bounding_box': {'type': 'Polygon', 'coordinates': [[[-83.353955, 32.04683], [-78.499301, 32.04683], [-78.499301, 35.215449], [-83.353955, 35.215449]]]}, 'attributes': {}}\"\n        ],\n        \"semantic_type\": \"\",\n        \"description\": \"\"\n      }\n    },\n    {\n      \"column\": \"tweet_entities\",\n      \"properties\": {\n        \"dtype\": \"string\",\n        \"num_unique_values\": 4891,\n        \"samples\": [\n          \"{'hashtags': [{'text': 'JustDoIt', 'indices': [84, 93]}, {'text': 'NeededAJob', 'indices': [94, 105]}], 'symbols': [], 'user_mentions': [{'screen_name': 'Nike', 'name': 'Nike', 'id': 415859364, 'id_str': '415859364', 'indices': [26, 31]}], 'urls': []}\",\n          \"{'hashtags': [{'text': 'Nike', 'indices': [41, 46]}, {'text': 'JustDoIt', 'indices': [70, 79]}], 'symbols': [], 'user_mentions': [{'screen_name': 'madriannorman', 'name': 'Adrian Norman', 'id': 829383694976643072, 'id_str': '829383694976643072', 'indices': [0, 14]}, {'screen_name': 'Nike', 'name': 'Nike', 'id': 415859364, 'id_str': '415859364', 'indices': [16, 21]}, {'screen_name': 'Kaepernick7', 'name': 'Colin Kaepernick', 'id': 45055696, 'id_str': '45055696', 'indices': [22, 34]}], 'urls': []}\",\n          \"{'hashtags': [{'text': 'JustDoIt', 'indices': [154, 163]}], 'symbols': [], 'user_mentions': [], 'urls': []}\"\n        ],\n        \"semantic_type\": \"\",\n        \"description\": \"\"\n      }\n    }\n  ]\n}",
              "type": "dataframe",
              "variable_name": "df"
            },
            "text/html": [
              "\n",
              "  <div id=\"df-08802c56-3afc-44c5-97fa-eada7b20b992\" class=\"colab-df-container\">\n",
              "    <div>\n",
              "<style scoped>\n",
              "    .dataframe tbody tr th:only-of-type {\n",
              "        vertical-align: middle;\n",
              "    }\n",
              "\n",
              "    .dataframe tbody tr th {\n",
              "        vertical-align: top;\n",
              "    }\n",
              "\n",
              "    .dataframe thead th {\n",
              "        text-align: right;\n",
              "    }\n",
              "</style>\n",
              "<table border=\"1\" class=\"dataframe\">\n",
              "  <thead>\n",
              "    <tr style=\"text-align: right;\">\n",
              "      <th></th>\n",
              "      <th>tweet_full_text</th>\n",
              "      <th>tweet_created_at</th>\n",
              "      <th>tweet_favorite_count</th>\n",
              "      <th>tweet_retweet_count</th>\n",
              "      <th>user_followers_count</th>\n",
              "      <th>tweet_place</th>\n",
              "      <th>tweet_entities</th>\n",
              "    </tr>\n",
              "  </thead>\n",
              "  <tbody>\n",
              "    <tr>\n",
              "      <th>0</th>\n",
              "      <td>Done is better than perfect. — Sheryl Sandberg...</td>\n",
              "      <td>Fri Sep 07 16:25:06 +0000 2018</td>\n",
              "      <td>0</td>\n",
              "      <td>0</td>\n",
              "      <td>57983.0</td>\n",
              "      <td>NaN</td>\n",
              "      <td>{'hashtags': [{'text': 'quote', 'indices': [47...</td>\n",
              "    </tr>\n",
              "    <tr>\n",
              "      <th>1</th>\n",
              "      <td>Shout out to the Great Fire Department and the...</td>\n",
              "      <td>Fri Sep 07 16:24:59 +0000 2018</td>\n",
              "      <td>0</td>\n",
              "      <td>0</td>\n",
              "      <td>13241.0</td>\n",
              "      <td>NaN</td>\n",
              "      <td>{'hashtags': [{'text': 'hero', 'indices': [90,...</td>\n",
              "    </tr>\n",
              "    <tr>\n",
              "      <th>2</th>\n",
              "      <td>There are some AMAZINGLY hilarious Nike Ad mem...</td>\n",
              "      <td>Fri Sep 07 16:24:50 +0000 2018</td>\n",
              "      <td>0</td>\n",
              "      <td>0</td>\n",
              "      <td>11377.0</td>\n",
              "      <td>NaN</td>\n",
              "      <td>{'hashtags': [{'text': 'JustDoIt', 'indices': ...</td>\n",
              "    </tr>\n",
              "  </tbody>\n",
              "</table>\n",
              "</div>\n",
              "    <div class=\"colab-df-buttons\">\n",
              "\n",
              "  <div class=\"colab-df-container\">\n",
              "    <button class=\"colab-df-convert\" onclick=\"convertToInteractive('df-08802c56-3afc-44c5-97fa-eada7b20b992')\"\n",
              "            title=\"Convert this dataframe to an interactive table.\"\n",
              "            style=\"display:none;\">\n",
              "\n",
              "  <svg xmlns=\"http://www.w3.org/2000/svg\" height=\"24px\" viewBox=\"0 -960 960 960\">\n",
              "    <path d=\"M120-120v-720h720v720H120Zm60-500h600v-160H180v160Zm220 220h160v-160H400v160Zm0 220h160v-160H400v160ZM180-400h160v-160H180v160Zm440 0h160v-160H620v160ZM180-180h160v-160H180v160Zm440 0h160v-160H620v160Z\"/>\n",
              "  </svg>\n",
              "    </button>\n",
              "\n",
              "  <style>\n",
              "    .colab-df-container {\n",
              "      display:flex;\n",
              "      gap: 12px;\n",
              "    }\n",
              "\n",
              "    .colab-df-convert {\n",
              "      background-color: #E8F0FE;\n",
              "      border: none;\n",
              "      border-radius: 50%;\n",
              "      cursor: pointer;\n",
              "      display: none;\n",
              "      fill: #1967D2;\n",
              "      height: 32px;\n",
              "      padding: 0 0 0 0;\n",
              "      width: 32px;\n",
              "    }\n",
              "\n",
              "    .colab-df-convert:hover {\n",
              "      background-color: #E2EBFA;\n",
              "      box-shadow: 0px 1px 2px rgba(60, 64, 67, 0.3), 0px 1px 3px 1px rgba(60, 64, 67, 0.15);\n",
              "      fill: #174EA6;\n",
              "    }\n",
              "\n",
              "    .colab-df-buttons div {\n",
              "      margin-bottom: 4px;\n",
              "    }\n",
              "\n",
              "    [theme=dark] .colab-df-convert {\n",
              "      background-color: #3B4455;\n",
              "      fill: #D2E3FC;\n",
              "    }\n",
              "\n",
              "    [theme=dark] .colab-df-convert:hover {\n",
              "      background-color: #434B5C;\n",
              "      box-shadow: 0px 1px 3px 1px rgba(0, 0, 0, 0.15);\n",
              "      filter: drop-shadow(0px 1px 2px rgba(0, 0, 0, 0.3));\n",
              "      fill: #FFFFFF;\n",
              "    }\n",
              "  </style>\n",
              "\n",
              "    <script>\n",
              "      const buttonEl =\n",
              "        document.querySelector('#df-08802c56-3afc-44c5-97fa-eada7b20b992 button.colab-df-convert');\n",
              "      buttonEl.style.display =\n",
              "        google.colab.kernel.accessAllowed ? 'block' : 'none';\n",
              "\n",
              "      async function convertToInteractive(key) {\n",
              "        const element = document.querySelector('#df-08802c56-3afc-44c5-97fa-eada7b20b992');\n",
              "        const dataTable =\n",
              "          await google.colab.kernel.invokeFunction('convertToInteractive',\n",
              "                                                    [key], {});\n",
              "        if (!dataTable) return;\n",
              "\n",
              "        const docLinkHtml = 'Like what you see? Visit the ' +\n",
              "          '<a target=\"_blank\" href=https://colab.research.google.com/notebooks/data_table.ipynb>data table notebook</a>'\n",
              "          + ' to learn more about interactive tables.';\n",
              "        element.innerHTML = '';\n",
              "        dataTable['output_type'] = 'display_data';\n",
              "        await google.colab.output.renderOutput(dataTable, element);\n",
              "        const docLink = document.createElement('div');\n",
              "        docLink.innerHTML = docLinkHtml;\n",
              "        element.appendChild(docLink);\n",
              "      }\n",
              "    </script>\n",
              "  </div>\n",
              "\n",
              "\n",
              "<div id=\"df-a8cdd998-aa92-480a-adf8-6321ab608ef1\">\n",
              "  <button class=\"colab-df-quickchart\" onclick=\"quickchart('df-a8cdd998-aa92-480a-adf8-6321ab608ef1')\"\n",
              "            title=\"Suggest charts\"\n",
              "            style=\"display:none;\">\n",
              "\n",
              "<svg xmlns=\"http://www.w3.org/2000/svg\" height=\"24px\"viewBox=\"0 0 24 24\"\n",
              "     width=\"24px\">\n",
              "    <g>\n",
              "        <path d=\"M19 3H5c-1.1 0-2 .9-2 2v14c0 1.1.9 2 2 2h14c1.1 0 2-.9 2-2V5c0-1.1-.9-2-2-2zM9 17H7v-7h2v7zm4 0h-2V7h2v10zm4 0h-2v-4h2v4z\"/>\n",
              "    </g>\n",
              "</svg>\n",
              "  </button>\n",
              "\n",
              "<style>\n",
              "  .colab-df-quickchart {\n",
              "      --bg-color: #E8F0FE;\n",
              "      --fill-color: #1967D2;\n",
              "      --hover-bg-color: #E2EBFA;\n",
              "      --hover-fill-color: #174EA6;\n",
              "      --disabled-fill-color: #AAA;\n",
              "      --disabled-bg-color: #DDD;\n",
              "  }\n",
              "\n",
              "  [theme=dark] .colab-df-quickchart {\n",
              "      --bg-color: #3B4455;\n",
              "      --fill-color: #D2E3FC;\n",
              "      --hover-bg-color: #434B5C;\n",
              "      --hover-fill-color: #FFFFFF;\n",
              "      --disabled-bg-color: #3B4455;\n",
              "      --disabled-fill-color: #666;\n",
              "  }\n",
              "\n",
              "  .colab-df-quickchart {\n",
              "    background-color: var(--bg-color);\n",
              "    border: none;\n",
              "    border-radius: 50%;\n",
              "    cursor: pointer;\n",
              "    display: none;\n",
              "    fill: var(--fill-color);\n",
              "    height: 32px;\n",
              "    padding: 0;\n",
              "    width: 32px;\n",
              "  }\n",
              "\n",
              "  .colab-df-quickchart:hover {\n",
              "    background-color: var(--hover-bg-color);\n",
              "    box-shadow: 0 1px 2px rgba(60, 64, 67, 0.3), 0 1px 3px 1px rgba(60, 64, 67, 0.15);\n",
              "    fill: var(--button-hover-fill-color);\n",
              "  }\n",
              "\n",
              "  .colab-df-quickchart-complete:disabled,\n",
              "  .colab-df-quickchart-complete:disabled:hover {\n",
              "    background-color: var(--disabled-bg-color);\n",
              "    fill: var(--disabled-fill-color);\n",
              "    box-shadow: none;\n",
              "  }\n",
              "\n",
              "  .colab-df-spinner {\n",
              "    border: 2px solid var(--fill-color);\n",
              "    border-color: transparent;\n",
              "    border-bottom-color: var(--fill-color);\n",
              "    animation:\n",
              "      spin 1s steps(1) infinite;\n",
              "  }\n",
              "\n",
              "  @keyframes spin {\n",
              "    0% {\n",
              "      border-color: transparent;\n",
              "      border-bottom-color: var(--fill-color);\n",
              "      border-left-color: var(--fill-color);\n",
              "    }\n",
              "    20% {\n",
              "      border-color: transparent;\n",
              "      border-left-color: var(--fill-color);\n",
              "      border-top-color: var(--fill-color);\n",
              "    }\n",
              "    30% {\n",
              "      border-color: transparent;\n",
              "      border-left-color: var(--fill-color);\n",
              "      border-top-color: var(--fill-color);\n",
              "      border-right-color: var(--fill-color);\n",
              "    }\n",
              "    40% {\n",
              "      border-color: transparent;\n",
              "      border-right-color: var(--fill-color);\n",
              "      border-top-color: var(--fill-color);\n",
              "    }\n",
              "    60% {\n",
              "      border-color: transparent;\n",
              "      border-right-color: var(--fill-color);\n",
              "    }\n",
              "    80% {\n",
              "      border-color: transparent;\n",
              "      border-right-color: var(--fill-color);\n",
              "      border-bottom-color: var(--fill-color);\n",
              "    }\n",
              "    90% {\n",
              "      border-color: transparent;\n",
              "      border-bottom-color: var(--fill-color);\n",
              "    }\n",
              "  }\n",
              "</style>\n",
              "\n",
              "  <script>\n",
              "    async function quickchart(key) {\n",
              "      const quickchartButtonEl =\n",
              "        document.querySelector('#' + key + ' button');\n",
              "      quickchartButtonEl.disabled = true;  // To prevent multiple clicks.\n",
              "      quickchartButtonEl.classList.add('colab-df-spinner');\n",
              "      try {\n",
              "        const charts = await google.colab.kernel.invokeFunction(\n",
              "            'suggestCharts', [key], {});\n",
              "      } catch (error) {\n",
              "        console.error('Error during call to suggestCharts:', error);\n",
              "      }\n",
              "      quickchartButtonEl.classList.remove('colab-df-spinner');\n",
              "      quickchartButtonEl.classList.add('colab-df-quickchart-complete');\n",
              "    }\n",
              "    (() => {\n",
              "      let quickchartButtonEl =\n",
              "        document.querySelector('#df-a8cdd998-aa92-480a-adf8-6321ab608ef1 button');\n",
              "      quickchartButtonEl.style.display =\n",
              "        google.colab.kernel.accessAllowed ? 'block' : 'none';\n",
              "    })();\n",
              "  </script>\n",
              "</div>\n",
              "    </div>\n",
              "  </div>\n"
            ],
            "text/plain": [
              "                                     tweet_full_text  \\\n",
              "0  Done is better than perfect. — Sheryl Sandberg...   \n",
              "1  Shout out to the Great Fire Department and the...   \n",
              "2  There are some AMAZINGLY hilarious Nike Ad mem...   \n",
              "\n",
              "                 tweet_created_at  tweet_favorite_count  tweet_retweet_count  \\\n",
              "0  Fri Sep 07 16:25:06 +0000 2018                     0                    0   \n",
              "1  Fri Sep 07 16:24:59 +0000 2018                     0                    0   \n",
              "2  Fri Sep 07 16:24:50 +0000 2018                     0                    0   \n",
              "\n",
              "   user_followers_count tweet_place  \\\n",
              "0               57983.0         NaN   \n",
              "1               13241.0         NaN   \n",
              "2               11377.0         NaN   \n",
              "\n",
              "                                      tweet_entities  \n",
              "0  {'hashtags': [{'text': 'quote', 'indices': [47...  \n",
              "1  {'hashtags': [{'text': 'hero', 'indices': [90,...  \n",
              "2  {'hashtags': [{'text': 'JustDoIt', 'indices': ...  "
            ]
          },
          "execution_count": 42,
          "metadata": {},
          "output_type": "execute_result"
        }
      ],
      "source": [
        "# Restrict to the columns of interest\n",
        "df= data[columns_to_keep]\n",
        "df.head(3)"
      ]
    },
    {
      "cell_type": "markdown",
      "metadata": {
        "id": "4GVpLUoPU8yg"
      },
      "source": [
        "# Visulize some Columns to understand the Data"
      ]
    },
    {
      "cell_type": "code",
      "execution_count": null,
      "metadata": {
        "colab": {
          "base_uri": "https://localhost:8080/",
          "height": 390
        },
        "id": "YRmz_zUXU1EC",
        "outputId": "692739ea-fd62-47bb-a773-8dfff55413d7"
      },
      "outputs": [
        {
          "data": {
            "image/png": "[encoded data removed]",
            "text/plain": [
              "<Figure size 800x400 with 1 Axes>"
            ]
          },
          "metadata": {},
          "output_type": "display_data"
        }
      ],
      "source": [
        "# @title tweet_retweet_count\n",
        "df['tweet_retweet_count'].plot(kind='line', figsize=(8, 4), title='tweet_retweet_count')\n",
        "plt.gca().spines[['top', 'right']].set_visible(False)"
      ]
    },
    {
      "cell_type": "code",
      "execution_count": null,
      "metadata": {
        "colab": {
          "base_uri": "https://localhost:8080/",
          "height": 450
        },
        "id": "dzSdPhcjUmlh",
        "outputId": "3697bee8-2edf-4002-c9f4-58fd7182196f"
      },
      "outputs": [
        {
          "data": {
            "image/png": "[encoded data removed]",
            "text/plain": [
              "<Figure size 640x480 with 1 Axes>"
            ]
          },
          "metadata": {},
          "output_type": "display_data"
        }
      ],
      "source": [
        "# @title tweet_favorite_count vs tweet_retweet_count\n",
        "\n",
        "df.plot(kind='scatter', x='tweet_favorite_count', y='tweet_retweet_count', s=32, alpha=.8)\n",
        "plt.gca().spines[['top', 'right',]].set_visible(False)"
      ]
    },
    {
      "cell_type": "code",
      "execution_count": null,
      "metadata": {
        "colab": {
          "base_uri": "https://localhost:8080/",
          "height": 391
        },
        "id": "d6gENzsnUXtU",
        "outputId": "5d45a9b1-6672-4874-8cb9-faeba6a7b763"
      },
      "outputs": [
        {
          "data": {
            "image/png": "[encoded data removed]",
            "text/plain": [
              "<Figure size 800x400 with 1 Axes>"
            ]
          },
          "metadata": {},
          "output_type": "display_data"
        }
      ],
      "source": [
        "# @title user_followers_count\n",
        "\n",
        "df['user_followers_count'].plot(kind='line', figsize=(8, 4), title='user_followers_count')\n",
        "plt.gca().spines[['top', 'right']].set_visible(False)"
      ]
    },
    {
      "cell_type": "markdown",
      "metadata": {
        "id": "0cceJWZzVRxk"
      },
      "source": [
        "# Check for Missing Values in the Tweet_full_Text Column"
      ]
    },
    {
      "cell_type": "code",
      "execution_count": null,
      "metadata": {
        "id": "mWgq0z0lzond"
      },
      "outputs": [],
      "source": [
        "#  check missing values in full text column\n",
        "df = df.dropna(subset=['tweet_full_text'])\n"
      ]
    },
    {
      "cell_type": "code",
      "execution_count": null,
      "metadata": {
        "colab": {
          "base_uri": "https://localhost:8080/"
        },
        "id": "hw4pkjmA9bg7",
        "outputId": "f44d691c-d246-48bc-8961-43c8d6767191"
      },
      "outputs": [
        {
          "name": "stdout",
          "output_type": "stream",
          "text": [
            "Requirement already satisfied: spacytextblob in /usr/local/lib/python3.10/dist-packages (4.0.0)\n",
            "Requirement already satisfied: spacy<4.0,>=3.0 in /usr/local/lib/python3.10/dist-packages (from spacytextblob) (3.7.4)\n",
            "Requirement already satisfied: textblob<0.16.0,>=0.15.3 in /usr/local/lib/python3.10/dist-packages (from spacytextblob) (0.15.3)\n",
            "Requirement already satisfied: spacy-legacy<3.1.0,>=3.0.11 in /usr/local/lib/python3.10/dist-packages (from spacy<4.0,>=3.0->spacytextblob) (3.0.12)\n",
            "Requirement already satisfied: spacy-loggers<2.0.0,>=1.0.0 in /usr/local/lib/python3.10/dist-packages (from spacy<4.0,>=3.0->spacytextblob) (1.0.5)\n",
            "Requirement already satisfied: murmurhash<1.1.0,>=0.28.0 in /usr/local/lib/python3.10/dist-packages (from spacy<4.0,>=3.0->spacytextblob) (1.0.10)\n",
            "Requirement already satisfied: cymem<2.1.0,>=2.0.2 in /usr/local/lib/python3.10/dist-packages (from spacy<4.0,>=3.0->spacytextblob) (2.0.8)\n",
            "Requirement already satisfied: preshed<3.1.0,>=3.0.2 in /usr/local/lib/python3.10/dist-packages (from spacy<4.0,>=3.0->spacytextblob) (3.0.9)\n",
            "Requirement already satisfied: thinc<8.3.0,>=8.2.2 in /usr/local/lib/python3.10/dist-packages (from spacy<4.0,>=3.0->spacytextblob) (8.2.3)\n",
            "Requirement already satisfied: wasabi<1.2.0,>=0.9.1 in /usr/local/lib/python3.10/dist-packages (from spacy<4.0,>=3.0->spacytextblob) (1.1.2)\n",
            "Requirement already satisfied: srsly<3.0.0,>=2.4.3 in /usr/local/lib/python3.10/dist-packages (from spacy<4.0,>=3.0->spacytextblob) (2.4.8)\n",
            "Requirement already satisfied: catalogue<2.1.0,>=2.0.6 in /usr/local/lib/python3.10/dist-packages (from spacy<4.0,>=3.0->spacytextblob) (2.0.10)\n",
            "Requirement already satisfied: weasel<0.4.0,>=0.1.0 in /usr/local/lib/python3.10/dist-packages (from spacy<4.0,>=3.0->spacytextblob) (0.3.4)\n",
            "Requirement already satisfied: typer<0.10.0,>=0.3.0 in /usr/local/lib/python3.10/dist-packages (from spacy<4.0,>=3.0->spacytextblob) (0.9.4)\n",
            "Requirement already satisfied: smart-open<7.0.0,>=5.2.1 in /usr/local/lib/python3.10/dist-packages (from spacy<4.0,>=3.0->spacytextblob) (6.4.0)\n",
            "Requirement already satisfied: tqdm<5.0.0,>=4.38.0 in /usr/local/lib/python3.10/dist-packages (from spacy<4.0,>=3.0->spacytextblob) (4.66.2)\n",
            "Requirement already satisfied: requests<3.0.0,>=2.13.0 in /usr/local/lib/python3.10/dist-packages (from spacy<4.0,>=3.0->spacytextblob) (2.31.0)\n",
            "Requirement already satisfied: pydantic!=1.8,!=1.8.1,<3.0.0,>=1.7.4 in /usr/local/lib/python3.10/dist-packages (from spacy<4.0,>=3.0->spacytextblob) (2.6.4)\n",
            "Requirement already satisfied: jinja2 in /usr/local/lib/python3.10/dist-packages (from spacy<4.0,>=3.0->spacytextblob) (3.1.3)\n",
            "Requirement already satisfied: setuptools in /usr/local/lib/python3.10/dist-packages (from spacy<4.0,>=3.0->spacytextblob) (67.7.2)\n",
            "Requirement already satisfied: packaging>=20.0 in /usr/local/lib/python3.10/dist-packages (from spacy<4.0,>=3.0->spacytextblob) (24.0)\n",
            "Requirement already satisfied: langcodes<4.0.0,>=3.2.0 in /usr/local/lib/python3.10/dist-packages (from spacy<4.0,>=3.0->spacytextblob) (3.3.0)\n",
            "Requirement already satisfied: numpy>=1.19.0 in /usr/local/lib/python3.10/dist-packages (from spacy<4.0,>=3.0->spacytextblob) (1.25.2)\n",
            "Requirement already satisfied: nltk>=3.1 in /usr/local/lib/python3.10/dist-packages (from textblob<0.16.0,>=0.15.3->spacytextblob) (3.8.1)\n",
            "Requirement already satisfied: click in /usr/local/lib/python3.10/dist-packages (from nltk>=3.1->textblob<0.16.0,>=0.15.3->spacytextblob) (8.1.7)\n",
            "Requirement already satisfied: joblib in /usr/local/lib/python3.10/dist-packages (from nltk>=3.1->textblob<0.16.0,>=0.15.3->spacytextblob) (1.3.2)\n",
            "Requirement already satisfied: regex>=2021.8.3 in /usr/local/lib/python3.10/dist-packages (from nltk>=3.1->textblob<0.16.0,>=0.15.3->spacytextblob) (2023.12.25)\n",
            "Requirement already satisfied: annotated-types>=0.4.0 in /usr/local/lib/python3.10/dist-packages (from pydantic!=1.8,!=1.8.1,<3.0.0,>=1.7.4->spacy<4.0,>=3.0->spacytextblob) (0.6.0)\n",
            "Requirement already satisfied: pydantic-core==2.16.3 in /usr/local/lib/python3.10/dist-packages (from pydantic!=1.8,!=1.8.1,<3.0.0,>=1.7.4->spacy<4.0,>=3.0->spacytextblob) (2.16.3)\n",
            "Requirement already satisfied: typing-extensions>=4.6.1 in /usr/local/lib/python3.10/dist-packages (from pydantic!=1.8,!=1.8.1,<3.0.0,>=1.7.4->spacy<4.0,>=3.0->spacytextblob) (4.10.0)\n",
            "Requirement already satisfied: charset-normalizer<4,>=2 in /usr/local/lib/python3.10/dist-packages (from requests<3.0.0,>=2.13.0->spacy<4.0,>=3.0->spacytextblob) (3.3.2)\n",
            "Requirement already satisfied: idna<4,>=2.5 in /usr/local/lib/python3.10/dist-packages (from requests<3.0.0,>=2.13.0->spacy<4.0,>=3.0->spacytextblob) (3.6)\n",
            "Requirement already satisfied: urllib3<3,>=1.21.1 in /usr/local/lib/python3.10/dist-packages (from requests<3.0.0,>=2.13.0->spacy<4.0,>=3.0->spacytextblob) (2.0.7)\n",
            "Requirement already satisfied: certifi>=2017.4.17 in /usr/local/lib/python3.10/dist-packages (from requests<3.0.0,>=2.13.0->spacy<4.0,>=3.0->spacytextblob) (2024.2.2)\n",
            "Requirement already satisfied: blis<0.8.0,>=0.7.8 in /usr/local/lib/python3.10/dist-packages (from thinc<8.3.0,>=8.2.2->spacy<4.0,>=3.0->spacytextblob) (0.7.11)\n",
            "Requirement already satisfied: confection<1.0.0,>=0.0.1 in /usr/local/lib/python3.10/dist-packages (from thinc<8.3.0,>=8.2.2->spacy<4.0,>=3.0->spacytextblob) (0.1.4)\n",
            "Requirement already satisfied: cloudpathlib<0.17.0,>=0.7.0 in /usr/local/lib/python3.10/dist-packages (from weasel<0.4.0,>=0.1.0->spacy<4.0,>=3.0->spacytextblob) (0.16.0)\n",
            "Requirement already satisfied: MarkupSafe>=2.0 in /usr/local/lib/python3.10/dist-packages (from jinja2->spacy<4.0,>=3.0->spacytextblob) (2.1.5)\n"
          ]
        }
      ],
      "source": [
        "pip install spacytextblob"
      ]
    },
    {
      "cell_type": "markdown",
      "metadata": {
        "id": "VNHcC4IQV8tF"
      },
      "source": [
        "# Sentiment analysis on the tweet text"
      ]
    },
    {
      "cell_type": "code",
      "execution_count": null,
      "metadata": {
        "colab": {
          "base_uri": "https://localhost:8080/"
        },
        "id": "J4F5790XWrMx",
        "outputId": "ce340feb-b222-4d88-b143-a2d787a231e5"
      },
      "outputs": [
        {
          "data": {
            "text/plain": [
              "0       0.750000\n",
              "1       0.812500\n",
              "2       0.270833\n",
              "3       0.000000\n",
              "4       0.000000\n",
              "          ...   \n",
              "5084    0.000000\n",
              "5085    1.000000\n",
              "5086    0.000000\n",
              "5087    0.000000\n",
              "5088   -0.100000\n",
              "Name: sentiment, Length: 5089, dtype: float64"
            ]
          },
          "execution_count": 48,
          "metadata": {},
          "output_type": "execute_result"
        }
      ],
      "source": [
        "# Load the spaCy model\n",
        "nlp = spacy.load('en_core_web_sm')\n",
        "\n",
        "# Add SpacyTextBlob to the spaCy pipeline\n",
        "nlp.add_pipe('spacytextblob')\n",
        "\n",
        "# Define a function to apply sentiment analysis\n",
        "def get_sentiment(text):\n",
        "    doc = nlp(text)\n",
        "    return doc._.polarity\n",
        "\n",
        "# Apply the function to the 'tweet_full_text' column\n",
        "df['sentiment'] = df['tweet_full_text'].apply(get_sentiment)\n",
        "df['sentiment']\n"
      ]
    },
    {
      "cell_type": "markdown",
      "metadata": {
        "id": "TOdsdyCYXRLG"
      },
      "source": [
        "# Correlation matrix"
      ]
    },
    {
      "cell_type": "code",
      "execution_count": null,
      "metadata": {
        "colab": {
          "base_uri": "https://localhost:8080/",
          "height": 568
        },
        "id": "UHqAyLjh75O5",
        "outputId": "e76125fc-119a-4c12-d900-bd96bc6ee429"
      },
      "outputs": [
        {
          "data": {
            "image/png": "[encoded data removed]",
            "text/plain": [
              "<Figure size 640x480 with 2 Axes>"
            ]
          },
          "metadata": {},
          "output_type": "display_data"
        }
      ],
      "source": [
        "# Correlation matrix\n",
        "correlation_matrix = df[['sentiment', 'tweet_favorite_count', 'tweet_retweet_count', 'user_followers_count']].corr()\n",
        "\n",
        "# Visualization (using matplotlib or seaborn)\n",
        "\n",
        "sns.heatmap(correlation_matrix, annot=True)\n",
        "plt.show()\n"
      ]
    },
    {
      "cell_type": "code",
      "execution_count": null,
      "metadata": {
        "colab": {
          "base_uri": "https://localhost:8080/"
        },
        "id": "OJjqgop1Xl43",
        "outputId": "add8f73a-f7e5-4814-c016-765f6a1f4f2a"
      },
      "outputs": [
        {
          "name": "stderr",
          "output_type": "stream",
          "text": [
            "[nltk_data] Downloading package punkt to /root/nltk_data...\n",
            "[nltk_data]   Package punkt is already up-to-date!\n",
            "[nltk_data] Downloading package stopwords to /root/nltk_data...\n",
            "[nltk_data]   Package stopwords is already up-to-date!\n",
            "[nltk_data] Downloading package wordnet to /root/nltk_data...\n",
            "[nltk_data]   Package wordnet is already up-to-date!\n"
          ]
        },
        {
          "data": {
            "text/plain": [
              "True"
            ]
          },
          "execution_count": 50,
          "metadata": {},
          "output_type": "execute_result"
        }
      ],
      "source": [
        "import nltk\n",
        "# downloaded the necessary NLTK resources\n",
        "nltk.download('punkt')\n",
        "nltk.download('stopwords')\n",
        "nltk.download('wordnet')\n"
      ]
    },
    {
      "cell_type": "markdown",
      "metadata": {
        "id": "ahSL30FnYNgS"
      },
      "source": [
        "# Text Preprocessing for Sentiment Analysis: Tokenization, Stop Word Removal, and Lemmatization"
      ]
    },
    {
      "cell_type": "code",
      "execution_count": null,
      "metadata": {
        "id": "IJXXwckh0vER"
      },
      "outputs": [],
      "source": [
        "from nltk.corpus import stopwords\n",
        "from nltk.stem import WordNetLemmatizer\n",
        "from nltk.tokenize import word_tokenize\n",
        "\n",
        "\n",
        "stop_words = set(stopwords.words('english'))\n",
        "lemmatizer = WordNetLemmatizer()\n",
        "\n",
        "def preprocess(text):\n",
        "    # Tokenize\n",
        "    tokens = word_tokenize(text)\n",
        "    # Remove stop words and punctuation, and lemmatize\n",
        "    tokens = [lemmatizer.lemmatize(word.lower()) for word in tokens if word.isalpha() and word.lower() not in stop_words]\n",
        "    return tokens\n",
        "\n",
        "# Apply preprocessing to the tweets\n",
        "df['processed_text'] = df['tweet_full_text'].apply(preprocess)\n"
      ]
    },
    {
      "cell_type": "markdown",
      "metadata": {
        "id": "pvv-EN4aYgW_"
      },
      "source": [
        "# Applying Pre-trained Sentiment Analysis Pipeline to Tweets"
      ]
    },
    {
      "cell_type": "code",
      "execution_count": null,
      "metadata": {
        "colab": {
          "background_save": true,
          "base_uri": "https://localhost:8080/"
        },
        "id": "4fEB2wKdCemM",
        "outputId": "8487a83d-e847-493c-f5c5-b3894ee70c30"
      },
      "outputs": [
        {
          "name": "stderr",
          "output_type": "stream",
          "text": [
            "No model was supplied, defaulted to distilbert/distilbert-base-uncased-finetuned-sst-2-english and revision af0f99b (https://huggingface.co/distilbert/distilbert-base-uncased-finetuned-sst-2-english).\n",
            "Using a pipeline without specifying a model name and revision in production is not recommended.\n"
          ]
        }
      ],
      "source": [
        "from transformers import pipeline\n",
        "\n",
        "# Load a pre-trained sentiment analysis pipeline\n",
        "sentiment_pipeline = pipeline(\"sentiment-analysis\")\n",
        "\n",
        "# Apply the pipeline to each tweet\n",
        "df['advanced_sentiment'] = df['tweet_full_text'].apply(lambda x: sentiment_pipeline(x)[0])\n"
      ]
    },
    {
      "cell_type": "markdown",
      "metadata": {
        "id": "0o4f5SKCY5BS"
      },
      "source": [
        "\n",
        "# Extracting Sentiment Labels and Scores from Analysis Results"
      ]
    },
    {
      "cell_type": "code",
      "execution_count": null,
      "metadata": {
        "colab": {
          "background_save": true
        },
        "id": "cLPJPaupOwsf"
      },
      "outputs": [],
      "source": [
        "{'label': 'NEGATIVE', 'score': 0.999117}\n",
        "# Split the sentiment into two columns: one for the label and one for the score\n",
        "df['sentiment_label'] = df['advanced_sentiment'].apply(lambda x: x['label'])\n",
        "df['sentiment_score'] = df['advanced_sentiment'].apply(lambda x: x['score'])\n"
      ]
    },
    {
      "cell_type": "markdown",
      "metadata": {
        "id": "e7CPKFlHbdsM"
      },
      "source": [
        "# Descriptive statistics"
      ]
    },
    {
      "cell_type": "code",
      "execution_count": null,
      "metadata": {
        "colab": {
          "background_save": true
        },
        "id": "WYr5bZQxPN9t",
        "outputId": "922287d8-1949-4f1d-fdd3-cc468a854de6"
      },
      "outputs": [
        {
          "name": "stdout",
          "output_type": "stream",
          "text": [
            "count    5089.000000\n",
            "mean        0.962329\n",
            "std         0.086103\n",
            "min         0.500736\n",
            "25%         0.979610\n",
            "50%         0.994126\n",
            "75%         0.997860\n",
            "max         0.999863\n",
            "Name: sentiment_score, dtype: float64\n",
            "sentiment_label\n",
            "NEGATIVE    3842\n",
            "POSITIVE    1247\n",
            "Name: count, dtype: int64\n"
          ]
        }
      ],
      "source": [
        "# Descriptive statistics\n",
        "print(df['sentiment_score'].describe())\n",
        "print(df['sentiment_label'].value_counts())\n"
      ]
    },
    {
      "cell_type": "markdown",
      "source": [
        "# Correlation matrix"
      ],
      "metadata": {
        "id": "FdLTd-AHhtYq"
      }
    },
    {
      "cell_type": "code",
      "execution_count": null,
      "metadata": {
        "colab": {
          "background_save": true
        },
        "id": "1iBHYnEOPjAM",
        "outputId": "85e4c3b2-9f92-424e-9393-7795404cd2e4"
      },
      "outputs": [
        {
          "name": "stdout",
          "output_type": "stream",
          "text": [
            "                      sentiment_score  tweet_favorite_count  \\\n",
            "sentiment_score              1.000000              0.002937   \n",
            "tweet_favorite_count         0.002937              1.000000   \n",
            "tweet_retweet_count          0.008320              0.880539   \n",
            "\n",
            "                      tweet_retweet_count  \n",
            "sentiment_score                  0.008320  \n",
            "tweet_favorite_count             0.880539  \n",
            "tweet_retweet_count              1.000000  \n"
          ]
        }
      ],
      "source": [
        "# Correlation matrix\n",
        "correlation_matrix = df[['sentiment_score', 'tweet_favorite_count', 'tweet_retweet_count']].corr()\n",
        "print(correlation_matrix)\n"
      ]
    },
    {
      "cell_type": "markdown",
      "source": [
        "# Converting Tweet Timestamps to Datetime and Analyzing Daily Sentiment Trends"
      ],
      "metadata": {
        "id": "goOO7PeFh9En"
      }
    },
    {
      "cell_type": "code",
      "execution_count": null,
      "metadata": {
        "colab": {
          "background_save": true
        },
        "id": "nRf2POzwQdod",
        "outputId": "cc34ff2f-8315-4a06-d47f-a769a17cc5ba"
      },
      "outputs": [
        {
          "name": "stderr",
          "output_type": "stream",
          "text": [
            "<ipython-input-56-3f236d69d328>:2: UserWarning: Could not infer format, so each element will be parsed individually, falling back to `dateutil`. To ensure parsing is consistent and as-expected, please specify a format.\n",
            "  df['tweet_created_at'] = pd.to_datetime(df['tweet_created_at'])\n"
          ]
        }
      ],
      "source": [
        "# Convert 'tweet_created_at' to datetime and set it as index\n",
        "df['tweet_created_at'] = pd.to_datetime(df['tweet_created_at'])\n",
        "df.set_index('tweet_created_at', inplace=True)\n",
        "\n",
        "# Resample the data by a certain time period (e.g., daily) and calculate mean sentiment score\n",
        "daily_sentiment = df.resample('D')['sentiment_score'].mean()\n"
      ]
    },
    {
      "cell_type": "markdown",
      "source": [
        "# Visualizing Sentiment Score Distribution and Daily Trends"
      ],
      "metadata": {
        "id": "3fwnCcrniHsV"
      }
    },
    {
      "cell_type": "code",
      "execution_count": null,
      "metadata": {
        "colab": {
          "background_save": true
        },
        "id": "9RQw8QXcPt2B",
        "outputId": "e5ae839a-b9be-44c8-e60b-32fc0b4ca532"
      },
      "outputs": [
        {
          "data": {
            "image/png": "[encoded data removed]",
            "text/plain": [
              "<Figure size 640x480 with 1 Axes>"
            ]
          },
          "metadata": {},
          "output_type": "display_data"
        },
        {
          "name": "stderr",
          "output_type": "stream",
          "text": [
            "/usr/local/lib/python3.10/dist-packages/pandas/plotting/_matplotlib/core.py:1401: UserWarning: Attempting to set identical low and high xlims makes transformation singular; automatically expanding.\n",
            "  ax.set_xlim(left, right)\n"
          ]
        },
        {
          "data": {
            "image/png": "[encoded data removed]",
            "text/plain": [
              "<Figure size 640x480 with 1 Axes>"
            ]
          },
          "metadata": {},
          "output_type": "display_data"
        }
      ],
      "source": [
        "import matplotlib.pyplot as plt\n",
        "import seaborn as sns\n",
        "\n",
        "# Sentiment score distribution\n",
        "sns.histplot(df['sentiment_score'], bins=50, kde=True)\n",
        "plt.show()\n",
        "\n",
        "# Sentiment over time\n",
        "daily_sentiment.plot(title='Daily Average Sentiment Score')\n",
        "plt.show()\n"
      ]
    },
    {
      "cell_type": "markdown",
      "source": [
        "# Save the Sentiment_Analysis_Result"
      ],
      "metadata": {
        "id": "QK6shYWPiM0G"
      }
    },
    {
      "cell_type": "code",
      "execution_count": null,
      "metadata": {
        "colab": {
          "background_save": true
        },
        "id": "iCkhP8ThQxix"
      },
      "outputs": [],
      "source": [
        "df.to_csv('sentiment_analysis_results.csv')\n"
      ]
    }
  ],
  "metadata": {
    "colab": {
      "provenance": []
    },
    "kernelspec": {
      "display_name": "Python 3",
      "name": "python3"
    },
    "language_info": {
      "name": "python"
    }
  },
  "nbformat": 4,
  "nbformat_minor": 0
}